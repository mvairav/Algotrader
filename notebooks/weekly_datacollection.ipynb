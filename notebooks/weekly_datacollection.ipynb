{
 "cells": [
  {
   "cell_type": "code",
   "execution_count": 5,
   "id": "f45cc054",
   "metadata": {},
   "outputs": [
    {
     "name": "stdout",
     "output_type": "stream",
     "text": [
      "Current working directory: /home/vairavan/projects/Algotrader/notebooks\n"
     ]
    }
   ],
   "source": [
    "import os\n",
    "print(f\"Current working directory: {os.getcwd()}\")\n",
    "os.chdir(\"../\")"
   ]
  },
  {
   "cell_type": "code",
   "execution_count": 6,
   "id": "c4337922",
   "metadata": {},
   "outputs": [
    {
     "name": "stdout",
     "output_type": "stream",
     "text": [
      "2025-05-15 01:44:50 -0500 | INFO     | /home/vairavan/projects/Algotrader/src/utils/logging_setup.py | General logging configured successfully.\n",
      "2025-05-15 01:44:50 -0500 | INFO     | root | Logging setup complete\n"
     ]
    }
   ],
   "source": [
    "import logging\n",
    "from src.utils.logging_setup import setup_general_logging\n",
    "\n",
    "setup_general_logging(\n",
    "    \"/home/vairavan/projects/AlgoTrader/logs/\",\n",
    "    level=logging.INFO,\n",
    "    log_to_console=True,\n",
    "    log_to_file=False\n",
    ")\n",
    "# Verify logging is working\n",
    "logging.info(\"Logging setup complete\")"
   ]
  },
  {
   "cell_type": "code",
   "execution_count": 7,
   "id": "fcfae4e7",
   "metadata": {},
   "outputs": [
    {
     "name": "stdout",
     "output_type": "stream",
     "text": [
      "2025-05-15 01:44:53 -0500 | INFO     | src.data_management.ibkr_helper | Successfully connected to IB at 127.0.0.1:7497\n"
     ]
    },
    {
     "data": {
      "text/plain": [
       "True"
      ]
     },
     "execution_count": 7,
     "metadata": {},
     "output_type": "execute_result"
    },
    {
     "name": "stdout",
     "output_type": "stream",
     "text": [
      "2025-05-15 01:53:04 -0500 | ERROR    | ib_async.wrapper | Error 162, reqId 250: Historical Market Data Service error message:HMDS query returned no data: NIFTY2552223550PE@NSE Trades, contract: Contract(secType='OPT', conId=778477177, symbol='NIFTY50', lastTradeDateOrContractMonth='20250522', strike=23550.0, right='P', multiplier='1', exchange='NSE', currency='INR', localSymbol='NIFTY2552223550PE', tradingClass='NIFTY')\n",
      "2025-05-15 01:56:10 -0500 | ERROR    | ib_async.wrapper | Error 162, reqId 402: Historical Market Data Service error message:HMDS query returned no data: NIFTY2551525350PE@NSE Trades, contract: Contract(secType='OPT', conId=775823876, symbol='NIFTY50', lastTradeDateOrContractMonth='20250515', strike=25350.0, right='P', multiplier='1', exchange='NSE', currency='INR', localSymbol='NIFTY2551525350PE', tradingClass='NIFTY')\n",
      "2025-05-15 07:22:22 -0500 | ERROR    | ib_async.wrapper | Error 1100, reqId -1: Connectivity between IBKR and Trader Workstation has been lost.\n",
      "2025-05-15 07:22:31 -0500 | ERROR    | ib_async.wrapper | Error 1100, reqId -1: Connectivity between IBKR and Trader Workstation has been lost.\n",
      "2025-05-15 07:22:36 -0500 | ERROR    | ib_async.wrapper | Error 1100, reqId -1: Connectivity between IBKR and Trader Workstation has been lost.\n",
      "2025-05-15 07:22:38 -0500 | ERROR    | ib_async.wrapper | Error 1100, reqId -1: Connectivity between IBKR and Trader Workstation has been lost.\n",
      "2025-05-15 07:22:45 -0500 | ERROR    | ib_async.wrapper | Error 1100, reqId -1: Connectivity between IBKR and Trader Workstation has been lost.\n",
      "2025-05-15 07:22:52 -0500 | ERROR    | ib_async.wrapper | Error 1102, reqId -1: Connectivity between IBKR and Trader Workstation has been restored - data maintained. All data farms are connected: usfarm.nj; hfarm; cashfarm; usfarm; euhmds; apachmds; fundfarm; ushmds; secdefhk.\n"
     ]
    }
   ],
   "source": [
    "from ib_async import util\n",
    "util.startLoop()  # Start the asyncio event loop\n",
    "from src.utils.helpers import load_json_config\n",
    "ibkr_config = load_json_config(\"config/accounts/ibkr_default.json\")\n",
    "\n",
    "from src.data_management.ibkr_helper import IBKRHelper\n",
    "timezone = ibkr_config[\"ibkr\"][\"trading_timezone\"]\n",
    "ibkr = IBKRHelper(market_timezone_str=timezone)\n",
    "await ibkr.connect(port=IBKRHelper.TWS_PORT,force_new=True,client_id=36)  # Connect to TWS or IB Gateway"
   ]
  },
  {
   "cell_type": "code",
   "execution_count": 12,
   "id": "3156e96c",
   "metadata": {},
   "outputs": [
    {
     "name": "stdout",
     "output_type": "stream",
     "text": [
      "2025-05-15 01:48:33 -0500 | INFO     | src.data_management.ibkr_helper | Retrieved 986 from option chains for symbol=NIFTY50, strike_range= +/- None,expiry month = None and expiry week = 1.\n"
     ]
    },
    {
     "name": "stderr",
     "output_type": "stream",
     "text": [
      "1/5: Processing contracts for 2025-05-08: 100%|██████████| 80/80 [03:03<00:00,  2.29s/it]\n",
      "2/5: Processing contracts for 2025-05-09:  51%|█████▏    | 41/80 [01:21<01:09,  1.79s/it]"
     ]
    },
    {
     "name": "stdout",
     "output_type": "stream",
     "text": [
      "2025-05-15 01:53:04 -0500 | WARNING  | src.data_management.ibkr_helper | No historical bars received for Contract(secType='OPT', conId=778477177, symbol='NIFTY50', lastTradeDateOrContractMonth='20250522', strike=23550.0, right='P', multiplier='1', exchange='NSE', currency='INR', localSymbol='NIFTY2552223550PE', tradingClass='NIFTY')\n"
     ]
    },
    {
     "name": "stderr",
     "output_type": "stream",
     "text": [
      "2/5: Processing contracts for 2025-05-09: 100%|██████████| 80/80 [03:04<00:00,  2.30s/it]\n",
      "3/5: Processing contracts for 2025-05-12:  46%|████▋     | 37/80 [01:22<02:02,  2.84s/it]"
     ]
    },
    {
     "name": "stdout",
     "output_type": "stream",
     "text": [
      "2025-05-15 01:56:10 -0500 | WARNING  | src.data_management.ibkr_helper | No historical bars received for Contract(secType='OPT', conId=775823876, symbol='NIFTY50', lastTradeDateOrContractMonth='20250515', strike=25350.0, right='P', multiplier='1', exchange='NSE', currency='INR', localSymbol='NIFTY2551525350PE', tradingClass='NIFTY')\n"
     ]
    },
    {
     "name": "stderr",
     "output_type": "stream",
     "text": [
      "3/5: Processing contracts for 2025-05-12: 100%|██████████| 80/80 [03:06<00:00,  2.33s/it]\n",
      "4/5: Processing contracts for 2025-05-13: 100%|██████████| 80/80 [03:10<00:00,  2.38s/it]\n",
      "5/5: Processing contracts for 2025-05-14: 100%|██████████| 80/80 [03:23<00:00,  2.55s/it]\n"
     ]
    }
   ],
   "source": [
    "import datetime\n",
    "from ib_async import Index\n",
    "from rich.progress import track\n",
    "from tqdm import tqdm\n",
    "DATA_DIR = \"/home/vairavan/projects/AlgoTrader/data/historical/NIFTY/\"\n",
    "\n",
    "today = datetime.datetime.now(tz=ibkr.market_timezone).replace(hour=0,minute=0,second=0,microsecond=0)\n",
    "days_since_thursday = (today.weekday() - 3) % 7 + 7  # 3 is Thursday (Monday=0)\n",
    "last_week_thursday = today - datetime.timedelta(days=days_since_thursday)\n",
    "\n",
    "all_weekdays = [last_week_thursday + datetime.timedelta(days=i) \n",
    "                for i in range(0,(today - last_week_thursday).days+1) \n",
    "                if (last_week_thursday + datetime.timedelta(days=i)).weekday() <5]\n",
    "\n",
    "all_contracts = await ibkr.get_option_chains_new(expiry_weeks=1)\n",
    "all_contracts = [c for c in all_contracts if c.lastTradeDate == today.strftime(\"%Y%m%d\")]\n",
    "\n",
    "idx = Index(symbol=\"NIFTY50\", exchange=\"NSE\", currency=\"INR\")\n",
    "index_history = await ibkr.get_historical_bars(contract=idx, start_date=all_weekdays[0], end_date=all_weekdays[-1], bar_size=\"1 day\", return_bars=True)\n",
    "\n",
    "for i, bar in enumerate(index_history):\n",
    "\n",
    "    day = bar.date\n",
    "    contracts = [c for c in all_contracts if c.strike > index_history[i].close-500 and c.strike < index_history[i].close+500]\n",
    "    for c in tqdm(contracts, total=len(contracts), desc=f\"{i+1}/{len(index_history)}: Processing contracts for {day.date()}\", ncols=30):\n",
    "        data_logger = ibkr.get_bardata_logger(contract=c, bar_size=\"1 day\", data_dir=DATA_DIR)\n",
    "        hist_bars = await ibkr.get_historical_bars(c, day, day, bar_size=\"1 day\", return_bars=True)\n",
    "        \n",
    "        if hist_bars is not None and len(hist_bars) > 0:\n",
    "            data_logger.log_bars(hist_bars)\n",
    "            data_logger = ibkr.get_bardata_logger(contract=c, bar_size=\"5 secs\", data_dir=DATA_DIR)\n",
    "            hist_bars = await ibkr.get_historical_bars(c, day, day, bar_size=\"5 secs\", return_bars=True )\n",
    "            if hist_bars is not None and len(hist_bars) > 0:\n",
    "                data_logger.log_bars(hist_bars)\n"
   ]
  }
 ],
 "metadata": {
  "kernelspec": {
   "display_name": ".venv",
   "language": "python",
   "name": "python3"
  },
  "language_info": {
   "codemirror_mode": {
    "name": "ipython",
    "version": 3
   },
   "file_extension": ".py",
   "mimetype": "text/x-python",
   "name": "python",
   "nbconvert_exporter": "python",
   "pygments_lexer": "ipython3",
   "version": "3.12.9"
  }
 },
 "nbformat": 4,
 "nbformat_minor": 5
}
